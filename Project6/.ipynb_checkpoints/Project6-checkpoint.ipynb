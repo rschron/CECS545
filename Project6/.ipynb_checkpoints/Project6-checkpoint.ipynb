{
 "cells": [
  {
   "cell_type": "code",
   "execution_count": null,
   "metadata": {},
   "outputs": [],
   "source": [
    "import numpy as np\n",
    "import random\n",
    "import matplotlib.pyplot as plt\n",
    "import networkx as nx\n",
    "\n",
    "GRAPH_SIZE = 10"
   ]
  },
  {
   "cell_type": "code",
   "execution_count": null,
   "metadata": {},
   "outputs": [],
   "source": [
    "def show_graph(graph):\n",
    "    if type(graph) is np.ndarray:\n",
    "        graph = nx.from_numpy_matrix(input_graph)\n",
    "    nx.draw(graph, with_labels=True)\n",
    "    plt.axis('equal')\n",
    "    \n",
    "def import_graph(filepath):\n",
    "    graph = None\n",
    "    f = open(filepath, 'r')\n",
    "    lines = f.readlines()\n",
    "    for i in lines:\n",
    "        line = i.strip('\\n').split(' ')\n",
    "        if line[0] == 'p':\n",
    "            graph = np.zeros((int(line[2]), int(line[2])), dtype = int)\n",
    "        elif line[0] == 'e':\n",
    "            graph[int(line[1])-1][int(line[2])-1] = 1\n",
    "            \n",
    "    return graph\n",
    "        \n"
   ]
  },
  {
   "cell_type": "code",
   "execution_count": null,
   "metadata": {},
   "outputs": [],
   "source": [
    "def initialize_population(adj_matrix, pop_size):\n",
    "    population = []\n",
    "    graph = nx.from_numpy_matrix(adj_matrix)\n",
    "    \n",
    "    for i in range(0, pop_size):\n",
    "        random_node = random.choice(list(graph.nodes))\n",
    "        nodes = list(graph[random_node-1])\n",
    "        sub_graph = graph.subgraph(nodes).copy()\n",
    "        population.append(sub_graph)\n",
    "    return population\n",
    "\n",
    "def find_fitnesses(population):\n",
    "    fitness_scores = []\n",
    "    \n",
    "    for i in population:\n",
    "        max_clique = nx.algorithms.clique.find_cliques(i)\n",
    "        max_length = 0\n",
    "        for j in max_clique:\n",
    "            if len(j) > max_length:\n",
    "                max_length = len(j)\n",
    "        fitness_scores.append(max_length)\n",
    "        \n",
    "    return fitness_scores\n",
    "        "
   ]
  },
  {
   "cell_type": "code",
   "execution_count": null,
   "metadata": {},
   "outputs": [],
   "source": [
    "graph = import_graph('DIMACS_all_ascii/brock200_1.clq')\n",
    "print(\"The graph contains \" + str(len(graph)) + \" nodes\")\n",
    "pop = initialize_population(graph, 1)\n",
    "print(\"The subgraph contains \" + str(len(pop[0])) + \" nodes\")\n",
    "print(len(pop[0]))\n",
    "show_graph(pop[0])\n",
    "\n",
    "find_fitnesses(pop)"
   ]
  },
  {
   "cell_type": "code",
   "execution_count": null,
   "metadata": {},
   "outputs": [],
   "source": []
  }
 ],
 "metadata": {
  "kernelspec": {
   "display_name": "Python 3",
   "language": "python",
   "name": "python3"
  },
  "language_info": {
   "codemirror_mode": {
    "name": "ipython",
    "version": 3
   },
   "file_extension": ".py",
   "mimetype": "text/x-python",
   "name": "python",
   "nbconvert_exporter": "python",
   "pygments_lexer": "ipython3",
   "version": "3.7.0"
  }
 },
 "nbformat": 4,
 "nbformat_minor": 2
}
