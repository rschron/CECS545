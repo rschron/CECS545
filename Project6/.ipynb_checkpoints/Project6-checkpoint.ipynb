{
 "cells": [
  {
   "cell_type": "code",
   "execution_count": 1,
   "metadata": {},
   "outputs": [],
   "source": [
    "import numpy as np\n",
    "import random\n",
    "import matplotlib.pyplot as plt\n",
    "import networkx as nx\n",
    "\n",
    "GRAPH_SIZE = 10"
   ]
  },
  {
   "cell_type": "code",
   "execution_count": 2,
   "metadata": {},
   "outputs": [],
   "source": [
    "def show_graph(graph):\n",
    "    if type(graph) is np.ndarray:\n",
    "        graph = nx.from_numpy_matrix(input_graph)\n",
    "    nx.draw(graph, with_labels=True)\n",
    "    plt.axis('equal')\n",
    "    \n",
    "def import_graph(filepath):\n",
    "    graph = None\n",
    "    f = open(filepath, 'r')\n",
    "    lines = f.readlines()\n",
    "    for i in lines:\n",
    "        line = i.strip('\\n').split(' ')\n",
    "        if line[0] == 'p':\n",
    "            graph = np.zeros((int(line[2]), int(line[2])), dtype = int)\n",
    "        elif line[0] == 'e':\n",
    "            graph[int(line[1])-1][int(line[2])-1] = 1\n",
    "            \n",
    "    return graph\n",
    "        \n"
   ]
  },
  {
   "cell_type": "code",
   "execution_count": 41,
   "metadata": {},
   "outputs": [],
   "source": [
    "def initialize_population(adj_matrix, pop_size):\n",
    "    population = []\n",
    "    graph = nx.from_numpy_matrix(adj_matrix)\n",
    "    \n",
    "    for i in range(0, pop_size):\n",
    "        individual = []\n",
    "        random_node = random.choice(list(graph.nodes))\n",
    "        neighbors = list(graph.neighbors(random_node))\n",
    "        individual.append(random_node)\n",
    "        random.shuffle(neighbors)\n",
    "        \n",
    "        for j in neighbors:\n",
    "            connected = True\n",
    "            for k in individual:\n",
    "                if not graph.has_edge(j, k):\n",
    "                    connected = False\n",
    "            if connected:\n",
    "                individual.append(j)\n",
    "        population.append(graph.subgraph(individual).copy())\n",
    "    return population\n",
    "        \n",
    "def fully_connected(node_list, node, G):\n",
    "    connected = True\n",
    "    for i in node_list:\n",
    "        if not G.has_edge(i, node):\n",
    "            connected = False\n",
    "    return connected\n",
    "\n",
    "def rank_pop_elite(population, gen_size, G):\n",
    "    graph = nx.from_numpy_matrix(G)\n",
    "    fitness_scores = []\n",
    "    pop_nodes = [list(i.nodes) for i in population]\n",
    "    \n",
    "    for i in pop_nodes:\n",
    "        fitness_scores.append(len(i))  \n",
    "        \n",
    "    scored = zip(pop_nodes, fitness_scores)\n",
    "    sorted_pop = sorted(scored, key=lambda x: x[1], reverse=True)\n",
    "    to_breed = []\n",
    "    for i in sorted_pop[:gen_size]:\n",
    "        to_breed.append(graph.subgraph(i[0]).copy())\n",
    "        \n",
    "    return to_breed\n",
    "\n",
    "#TODO: Implement Breeding\n",
    "def breed(parent1, parent2):\n",
    "    \n",
    "    return False"
   ]
  },
  {
   "cell_type": "code",
   "execution_count": 44,
   "metadata": {},
   "outputs": [
    {
     "name": "stdout",
     "output_type": "stream",
     "text": [
      "The graph contains 200 nodes\n",
      "The subgraph contains 15 nodes\n",
      "16\n",
      "[165, 166, 38, 138, 107, 141, 46, 143, 144, 142, 61, 119, 121, 154, 60, 189]\n",
      "16\n",
      "[192, 100, 4, 134, 7, 72, 106, 44, 173, 174, 15, 49, 50, 27, 124, 126]\n",
      "16\n",
      "[97, 37, 102, 171, 43, 13, 175, 144, 178, 54, 184, 121, 90, 156, 61, 57]\n",
      "16\n",
      "[33, 35, 100, 68, 26, 7, 168, 73, 74, 44, 173, 113, 179, 153, 154, 156]\n",
      "15\n",
      "[192, 65, 162, 3, 68, 167, 108, 44, 175, 17, 147, 118, 122, 123, 157]\n"
     ]
    }
   ],
   "source": [
    "graph = import_graph('DIMACS_all_ascii/brock200_1.clq')\n",
    "print(\"The graph contains \" + str(len(graph)) + \" nodes\")\n",
    "\n",
    "pop = initialize_population(graph, 10)\n",
    "print(\"The subgraph contains \" + str(len(pop[0])) + \" nodes\")\n",
    "newgen = rank_pop_elite(pop, 5, graph)\n",
    "#show_graph(newgen[0])"
   ]
  },
  {
   "cell_type": "code",
   "execution_count": null,
   "metadata": {},
   "outputs": [],
   "source": []
  }
 ],
 "metadata": {
  "kernelspec": {
   "display_name": "Python 3",
   "language": "python",
   "name": "python3"
  },
  "language_info": {
   "codemirror_mode": {
    "name": "ipython",
    "version": 3
   },
   "file_extension": ".py",
   "mimetype": "text/x-python",
   "name": "python",
   "nbconvert_exporter": "python",
   "pygments_lexer": "ipython3",
   "version": "3.7.0"
  }
 },
 "nbformat": 4,
 "nbformat_minor": 2
}
